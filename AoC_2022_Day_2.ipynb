{
  "nbformat": 4,
  "nbformat_minor": 0,
  "metadata": {
    "colab": {
      "provenance": [],
      "authorship_tag": "ABX9TyNF7r360KSw8uTOEnNxrvCC",
      "include_colab_link": true
    },
    "kernelspec": {
      "name": "python3",
      "display_name": "Python 3"
    },
    "language_info": {
      "name": "python"
    }
  },
  "cells": [
    {
      "cell_type": "markdown",
      "metadata": {
        "id": "view-in-github",
        "colab_type": "text"
      },
      "source": [
        "<a href=\"https://colab.research.google.com/github/BlueScorch2/Advent-of-Code-2022/blob/main/AoC_2022_Day_2.ipynb\" target=\"_parent\"><img src=\"https://colab.research.google.com/assets/colab-badge.svg\" alt=\"Open In Colab\"/></a>"
      ]
    },
    {
      "cell_type": "code",
      "execution_count": null,
      "metadata": {
        "id": "K0PjDvf50L9p"
      },
      "outputs": [],
      "source": [
        "#PART 1\n",
        "\n",
        "with open('/content/AoC 2022 Day 2 test.txt', 'r') as f:\n",
        "    file = f.read().split('\\n')\n",
        "print(file)\n",
        "lines = file.copy()\n",
        "\n",
        "lines = [l.split(' ') for l in lines]\n",
        "print(lines)\n",
        "\n",
        "opponent = {\n",
        "    'A' : 'Z',\n",
        "    'B' : 'X',\n",
        "    'C' : 'Y'\n",
        "}\n",
        "\n",
        "player = {\n",
        "    'Z' : 'B',\n",
        "    'X' : 'C',\n",
        "    'Y' : 'A'\n",
        "}\n",
        "\n",
        "score = {\n",
        "    'X' : 1,\n",
        "    'Y' : 2,\n",
        "    'Z' : 3\n",
        "}\n",
        "\n",
        "win = 6\n",
        "draw = 3\n",
        "loss = 0\n",
        "\n",
        "result = 0\n",
        "\n",
        "for l in lines:\n",
        "    if l[0] == player[l[1]]:\n",
        "        result += win\n",
        "        result += score[l[1]]\n",
        "    elif l[1] == opponent[l[0]]:\n",
        "        result += loss\n",
        "        result += score[l[1]]\n",
        "    else:\n",
        "        result += draw\n",
        "        result += score[l[1]]\n",
        "\n",
        "print(result)"
      ]
    },
    {
      "cell_type": "code",
      "source": [
        "#PART 2\n",
        "\n",
        "with open('/content/AoC 2022 Day 2 test.txt', 'r') as f:\n",
        "    file = f.read().split('\\n')\n",
        "print(file)\n",
        "lines = file.copy()\n",
        "\n",
        "lines = [l.split(' ') for l in lines]\n",
        "print(lines)\n",
        "\n",
        "opponent_win = {\n",
        "    'A' : 'Z',\n",
        "    'B' : 'X',\n",
        "    'C' : 'Y'\n",
        "}\n",
        "\n",
        "opponent_lose = {\n",
        "    'B' : 'Z',\n",
        "    'C' : 'X',\n",
        "    'A' : 'Y'\n",
        "}\n",
        "\n",
        "opponent_draw = {\n",
        "    'A' : 'X',\n",
        "    'B' : 'Y',\n",
        "    'C' : 'Z'\n",
        "}\n",
        "\n",
        "score = {\n",
        "    'X' : 1,\n",
        "    'Y' : 2,\n",
        "    'Z' : 3\n",
        "}\n",
        "\n",
        "win = 6\n",
        "draw = 3\n",
        "lose = 0\n",
        "\n",
        "result = 0\n",
        "\n",
        "for l in lines:\n",
        "    if l[1] == 'X': #lose\n",
        "        result += lose\n",
        "        result += score[opponent_win[l[0]]]           \n",
        "    elif l[1] == 'Y': #draw\n",
        "        result += draw\n",
        "        result += score[opponent_draw[l[0]]]\n",
        "    elif l[1] == 'Z': #win\n",
        "        result += win\n",
        "        result += score[opponent_lose[l[0]]]\n",
        "\n",
        "print(result)"
      ],
      "metadata": {
        "id": "kSv6nGz1wSDR"
      },
      "execution_count": null,
      "outputs": []
    }
  ]
}