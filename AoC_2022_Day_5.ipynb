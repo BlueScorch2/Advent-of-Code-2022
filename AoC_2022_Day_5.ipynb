{
  "nbformat": 4,
  "nbformat_minor": 0,
  "metadata": {
    "colab": {
      "provenance": [],
      "authorship_tag": "ABX9TyN37dKYXPidMreq6BGkSzBF",
      "include_colab_link": true
    },
    "kernelspec": {
      "name": "python3",
      "display_name": "Python 3"
    },
    "language_info": {
      "name": "python"
    }
  },
  "cells": [
    {
      "cell_type": "markdown",
      "metadata": {
        "id": "view-in-github",
        "colab_type": "text"
      },
      "source": [
        "<a href=\"https://colab.research.google.com/github/BlueScorch2/Advent-of-Code-2022/blob/main/AoC_2022_Day_5.ipynb\" target=\"_parent\"><img src=\"https://colab.research.google.com/assets/colab-badge.svg\" alt=\"Open In Colab\"/></a>"
      ]
    },
    {
      "cell_type": "code",
      "execution_count": null,
      "metadata": {
        "id": "7FXh5KcjHrxg"
      },
      "outputs": [],
      "source": [
        "#PART 1\n",
        "\n",
        "with open('/content/AoC 2022 Day 5 test.txt', 'r') as f:\n",
        "    file = f.read().split('\\n')\n",
        "lines = file.copy()\n",
        "print(lines)\n",
        "\n",
        "crates, orders = [], []\n",
        "num = 0\n",
        "for l in lines:\n",
        "    if '1' not in l:\n",
        "        crates.append(l)\n",
        "    else:\n",
        "        num = l[-2]\n",
        "        break\n",
        "\n",
        "for l in lines:\n",
        "    if 'move' in l:\n",
        "        orders.append([l.split(' ')[1], l.split(' ')[3], l.split(' ')[5]])\n",
        "\n",
        "stacks = []\n",
        "for i in range(int(num)):\n",
        "    stacks.append([])\n",
        "\n",
        "crates.reverse()\n",
        "crates = [c.split(' ') for c in crates]\n",
        "\n",
        "for c in crates:\n",
        "    i, s  = 0, 0\n",
        "    while i < len(c):\n",
        "        if c[i] != '':\n",
        "            stacks[s].append((c[i])[1])\n",
        "        elif c[i] + c[i+1] + c[i+2] + c[i+3] == '':\n",
        "            i += 3\n",
        "        s+=1\n",
        "        i+=1\n",
        "\n",
        "for o in orders:\n",
        "    a,b = int(o[1])-1, int(o[2])-1\n",
        "    for m in range(int(o[0])):\n",
        "        stacks[b].append(stacks[a].pop())\n",
        "\n",
        "for s in stacks:\n",
        "    print(s.pop(), end='')"
      ]
    },
    {
      "cell_type": "code",
      "source": [
        "#PART 2\n",
        "\n",
        "with open('/content/AoC 2022 Day 5 test.txt', 'r') as f:\n",
        "    file = f.read().split('\\n')\n",
        "lines = file.copy()\n",
        "print(lines)\n",
        "\n",
        "crates, orders, stacks, num = [], [], [], 0\n",
        "\n",
        "for l in lines:\n",
        "    if '1' not in l:\n",
        "        crates.append(l)\n",
        "    else:\n",
        "        num = l[-2]\n",
        "        break\n",
        "\n",
        "for l in lines:\n",
        "    if 'move' in l:\n",
        "        orders.append([l.split(' ')[1], l.split(' ')[3], l.split(' ')[5]])\n",
        "\n",
        "for i in range(int(num)):\n",
        "    stacks.append([])\n",
        "\n",
        "crates.reverse()\n",
        "crates = [c.split(' ') for c in crates]\n",
        "\n",
        "for c in crates:\n",
        "    i, s  = 0, 0\n",
        "    while i < len(c):\n",
        "        if c[i] != '':\n",
        "            stacks[s].append((c[i])[1])\n",
        "        elif c[i] + c[i+1] + c[i+2] + c[i+3] == '':\n",
        "            i += 3\n",
        "        s+=1\n",
        "        i+=1\n",
        "\n",
        "for o in orders:\n",
        "    attach = []\n",
        "    a,b = int(o[1])-1, int(o[2])-1\n",
        "    for m in range(int(o[0])):\n",
        "        attach.append(stacks[a].pop())\n",
        "    for m in range(int(o[0])):\n",
        "        stacks[b].append(attach.pop())\n",
        "\n",
        "for s in stacks:\n",
        "    print(s.pop(), end='')"
      ],
      "metadata": {
        "id": "Q5JFzvJ-aAMl"
      },
      "execution_count": null,
      "outputs": []
    }
  ]
}