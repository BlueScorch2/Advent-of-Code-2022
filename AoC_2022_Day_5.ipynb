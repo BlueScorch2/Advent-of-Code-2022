{
  "nbformat": 4,
  "nbformat_minor": 0,
  "metadata": {
    "colab": {
      "provenance": [],
      "authorship_tag": "ABX9TyN37dKYXPidMreq6BGkSzBF",
      "include_colab_link": true
    },
    "kernelspec": {
      "name": "python3",
      "display_name": "Python 3"
    },
    "language_info": {
      "name": "python"
    }
  },
  "cells": [
    {
      "cell_type": "markdown",
      "metadata": {
        "id": "view-in-github",
        "colab_type": "text"
      },
      "source": [
        "<a href=\"https://colab.research.google.com/github/BlueScorch2/Advent-of-Code-2022/blob/main/AoC_2022_Day_5.ipynb\" target=\"_parent\"><img src=\"https://colab.research.google.com/assets/colab-badge.svg\" alt=\"Open In Colab\"/></a>"
      ]
    },
    {
      "cell_type": "code",
      "execution_count": null,
      "metadata": {
        "id": "7FXh5KcjHrxg"
      },
      "outputs": [],
      "source": [
        "#PART 1\n",
        "\n",
        "with open('/content/AoC 2022 Day 5 test.txt', 'r') as f:\n",
        "    file = f.read().split('\\n')\n",
        "lines = file.copy()\n",
        "print(lines)\n",
        "\n",
        "crates, orders = [], []\n",
        "num = 0\n",
        "for l in lines:\n",
        "    if '1' not in l:\n",
        "        crates.append(l)\n",
        "    else:\n",
        "        num = l[-2]\n",
        "        break\n",
        "\n",
        "for l in lines:\n",
        "    if 'move' in l:\n",
        "        orders.append([l.split(' ')[1], l.split(' ')[3], l.split(' ')[5]])\n",
        "\n",
        "stacks = []\n",
        "for i in range(int(num)):\n",
        "    stacks.append([])\n",
        "\n",
        "crates.reverse()\n",
        "crates = [c.split(' ') for c in crates]\n",
        "\n",
        "for c in crates:\n",
        "    i, s  = 0, 0\n",
        "    while i < len(c):\n",
        "        if c[i] != '':\n",
        "            stacks[s].append((c[i])[1])\n",
        "        elif c[i] + c[i+1] + c[i+2] + c[i+3] == '':\n",
        "            i += 3\n",
        "        s+=1\n",
        "        i+=1\n",
        "\n",
        "for o in orders:\n",
        "    a,b = int(o[1])-1, int(o[2])-1\n",
        "    for m in range(int(o[0])):\n",
        "        stacks[b].append(stacks[a].pop())\n",
        "\n",
        "for s in stacks:\n",
        "    print(s.pop(), end='')"
      ]
    },
    {
      "cell_type": "code",
      "source": [
        "#PART 2\n",
        "\n",
        "with open('/content/AoC 2022 Day 5 test.txt', 'r') as f:\n",
        "    file = f.read().split('\\n')\n",
        "lines = file.copy()\n",
        "print(lines)\n",
        "\n",
        "crates, orders, stacks, num = [], [], [], 0\n",
        "\n",
        "for l in lines:\n",
        "    if '1' not in l:\n",
        "        crates.append(l)\n",
        "    else:\n",
        "        num = l[-2]\n",
        "        break\n",
        "\n",
        "for l in lines:\n",
        "    if 'move' in l:\n",
        "        orders.append([l.split(' ')[1], l.split(' ')[3], l.split(' ')[5]])\n",
        "\n",
        "for i in range(int(num)):\n",
        "    stacks.append([])\n",
        "\n",
        "crates.reverse()\n",
        "crates = [c.split(' ') for c in crates]\n",
        "\n",
        "for c in crates:\n",
        "    i, s  = 0, 0\n",
        "    while i < len(c):\n",
        "        if c[i] != '':\n",
        "            stacks[s].append((c[i])[1])\n",
        "        elif c[i] + c[i+1] + c[i+2] + c[i+3] == '':\n",
        "            i += 3\n",
        "        s+=1\n",
        "        i+=1\n",
        "\n",
        "for o in orders:\n",
        "    attach = []\n",
        "    a,b = int(o[1])-1, int(o[2])-1\n",
        "    for m in range(int(o[0])):\n",
        "        attach.append(stacks[a].pop())\n",
        "    for m in range(int(o[0])):\n",
        "        stacks[b].append(attach.pop())\n",
        "\n",
        "for s in stacks:\n",
        "    print(s.pop(), end='')"
      ],
      "metadata": {
        "colab": {
          "base_uri": "https://localhost:8080/"
        },
        "id": "Q5JFzvJ-aAMl",
        "outputId": "6d995710-a995-4806-a3e6-1ee02c6eefd1"
      },
      "execution_count": null,
      "outputs": [
        {
          "output_type": "stream",
          "name": "stdout",
          "text": [
            "['            [L] [M]         [M]    ', '        [D] [R] [Z]         [C] [L]', '        [C] [S] [T] [G]     [V] [M]', '[R]     [L] [Q] [B] [B]     [D] [F]', '[H] [B] [G] [D] [Q] [Z]     [T] [J]', '[M] [J] [H] [M] [P] [S] [V] [L] [N]', '[P] [C] [N] [T] [S] [F] [R] [G] [Q]', '[Z] [P] [S] [F] [F] [T] [N] [P] [W]', ' 1   2   3   4   5   6   7   8   9 ', '', 'move 7 from 3 to 9', 'move 5 from 8 to 9', 'move 3 from 9 to 5', 'move 6 from 9 to 2', 'move 9 from 9 to 3', 'move 3 from 7 to 3', 'move 8 from 2 to 3', 'move 9 from 3 to 1', 'move 11 from 3 to 8', 'move 5 from 6 to 9', 'move 1 from 6 to 3', 'move 1 from 2 to 7', 'move 1 from 4 to 8', 'move 1 from 3 to 9', 'move 4 from 4 to 3', 'move 6 from 8 to 3', 'move 2 from 8 to 2', 'move 4 from 9 to 3', 'move 3 from 2 to 5', 'move 2 from 5 to 4', 'move 5 from 3 to 4', 'move 11 from 1 to 4', 'move 1 from 7 to 6', 'move 1 from 3 to 5', 'move 2 from 1 to 9', 'move 1 from 1 to 4', 'move 7 from 5 to 8', 'move 21 from 4 to 6', 'move 6 from 6 to 2', 'move 6 from 8 to 9', 'move 5 from 8 to 5', 'move 2 from 2 to 7', 'move 4 from 3 to 7', 'move 1 from 2 to 6', 'move 1 from 2 to 5', 'move 2 from 2 to 7', 'move 4 from 3 to 7', 'move 1 from 4 to 6', 'move 9 from 5 to 3', 'move 7 from 3 to 4', 'move 7 from 7 to 3', 'move 7 from 4 to 1', 'move 8 from 3 to 5', 'move 1 from 3 to 5', 'move 3 from 8 to 2', 'move 2 from 2 to 9', 'move 13 from 9 to 4', 'move 5 from 5 to 3', 'move 4 from 7 to 6', 'move 1 from 7 to 4', 'move 2 from 4 to 2', 'move 3 from 3 to 4', 'move 2 from 5 to 2', 'move 6 from 1 to 7', 'move 1 from 2 to 8', 'move 1 from 3 to 8', 'move 1 from 1 to 6', 'move 1 from 3 to 4', 'move 1 from 2 to 6', 'move 24 from 6 to 1', 'move 3 from 2 to 3', 'move 3 from 3 to 5', 'move 2 from 8 to 6', 'move 2 from 5 to 4', 'move 3 from 5 to 1', 'move 7 from 4 to 8', 'move 3 from 8 to 9', 'move 2 from 9 to 5', 'move 2 from 6 to 3', 'move 1 from 9 to 8', 'move 5 from 7 to 5', 'move 2 from 3 to 1', 'move 1 from 7 to 1', 'move 7 from 4 to 7', 'move 2 from 4 to 8', 'move 6 from 8 to 6', 'move 3 from 6 to 9', 'move 10 from 5 to 1', 'move 7 from 7 to 1', 'move 1 from 4 to 9', 'move 1 from 6 to 3', 'move 2 from 9 to 7', 'move 1 from 4 to 2', 'move 1 from 9 to 5', 'move 1 from 8 to 5', 'move 39 from 1 to 8', 'move 1 from 2 to 5', 'move 2 from 6 to 9', 'move 3 from 9 to 5', 'move 3 from 1 to 6', 'move 1 from 7 to 2', 'move 1 from 3 to 2', 'move 2 from 6 to 2', 'move 3 from 2 to 3', 'move 1 from 6 to 2', 'move 1 from 1 to 8', 'move 3 from 1 to 2', 'move 3 from 2 to 4', 'move 2 from 4 to 5', 'move 2 from 3 to 8', 'move 8 from 5 to 2', 'move 8 from 8 to 2', 'move 15 from 2 to 7', 'move 1 from 1 to 5', 'move 25 from 8 to 7', 'move 2 from 2 to 4', 'move 2 from 4 to 3', 'move 1 from 8 to 4', 'move 2 from 4 to 6', 'move 1 from 2 to 1', 'move 26 from 7 to 2', 'move 15 from 2 to 1', 'move 7 from 8 to 9', 'move 10 from 1 to 6', 'move 10 from 7 to 2', 'move 1 from 8 to 1', 'move 5 from 9 to 8', 'move 1 from 8 to 9', 'move 2 from 6 to 9', 'move 3 from 7 to 1', 'move 1 from 7 to 1', 'move 5 from 9 to 2', 'move 1 from 3 to 1', 'move 9 from 6 to 3', 'move 1 from 6 to 1', 'move 4 from 2 to 4', 'move 3 from 4 to 8', 'move 1 from 4 to 1', 'move 9 from 3 to 1', 'move 1 from 7 to 6', 'move 9 from 2 to 5', 'move 14 from 1 to 6', 'move 1 from 3 to 8', 'move 5 from 2 to 6', 'move 8 from 1 to 8', 'move 6 from 6 to 8', 'move 14 from 6 to 7', 'move 1 from 1 to 7', 'move 10 from 5 to 4', 'move 11 from 8 to 5', 'move 15 from 7 to 1', 'move 4 from 5 to 6', 'move 4 from 8 to 9', 'move 6 from 5 to 3', 'move 1 from 6 to 9', 'move 1 from 1 to 6', 'move 1 from 5 to 8', 'move 2 from 6 to 2', 'move 6 from 1 to 5', 'move 1 from 5 to 8', 'move 2 from 5 to 4', 'move 9 from 2 to 9', 'move 13 from 9 to 8', 'move 1 from 2 to 1', 'move 1 from 4 to 8', 'move 3 from 3 to 1', 'move 2 from 4 to 5', 'move 2 from 1 to 5', 'move 1 from 9 to 3', 'move 17 from 8 to 1', 'move 3 from 3 to 2', 'move 4 from 5 to 1', 'move 2 from 2 to 4', 'move 1 from 6 to 1', 'move 1 from 2 to 8', 'move 4 from 4 to 6', 'move 1 from 5 to 9', 'move 5 from 6 to 8', 'move 1 from 5 to 4', 'move 1 from 5 to 6', 'move 3 from 8 to 6', 'move 8 from 4 to 5', 'move 32 from 1 to 7', 'move 11 from 7 to 6', 'move 8 from 5 to 3', 'move 3 from 8 to 7', 'move 6 from 3 to 9', 'move 4 from 3 to 8', 'move 5 from 8 to 2', 'move 1 from 8 to 5', 'move 11 from 6 to 3', 'move 1 from 5 to 2', 'move 2 from 8 to 6', 'move 12 from 7 to 8', 'move 2 from 6 to 2', 'move 2 from 6 to 4', 'move 5 from 2 to 5', 'move 8 from 7 to 2', 'move 2 from 7 to 1', 'move 2 from 7 to 6', 'move 5 from 5 to 4', 'move 5 from 4 to 7', 'move 5 from 8 to 2', 'move 2 from 9 to 7', 'move 5 from 8 to 4', 'move 2 from 7 to 3', 'move 2 from 9 to 3', 'move 3 from 7 to 9', 'move 1 from 1 to 8', 'move 2 from 6 to 1', 'move 2 from 9 to 8', 'move 1 from 7 to 8', 'move 1 from 2 to 5', 'move 1 from 7 to 9', 'move 7 from 4 to 3', 'move 3 from 3 to 6', 'move 5 from 8 to 6', 'move 3 from 9 to 5', 'move 16 from 3 to 1', 'move 2 from 9 to 1', 'move 7 from 1 to 8', 'move 1 from 1 to 2', 'move 5 from 8 to 2', 'move 12 from 1 to 4', 'move 1 from 3 to 5', 'move 1 from 2 to 9', 'move 1 from 9 to 4', 'move 4 from 6 to 5', 'move 5 from 6 to 1', 'move 1 from 6 to 5', 'move 1 from 1 to 4', 'move 1 from 4 to 7', 'move 1 from 3 to 7', 'move 9 from 4 to 6', 'move 2 from 7 to 8', 'move 1 from 3 to 4', 'move 2 from 8 to 9', 'move 4 from 8 to 4', 'move 4 from 2 to 8', 'move 2 from 9 to 7', 'move 2 from 7 to 8', 'move 10 from 2 to 4', 'move 1 from 2 to 1', 'move 5 from 4 to 7', 'move 1 from 1 to 3', 'move 3 from 8 to 7', 'move 6 from 7 to 2', 'move 3 from 2 to 7', 'move 1 from 6 to 7', 'move 5 from 5 to 8', 'move 4 from 1 to 3', 'move 4 from 3 to 1', 'move 8 from 4 to 2', 'move 1 from 3 to 2', 'move 2 from 7 to 2', 'move 2 from 6 to 3', 'move 4 from 7 to 2', 'move 4 from 5 to 7', 'move 14 from 2 to 7', 'move 3 from 2 to 1', 'move 3 from 8 to 2', 'move 1 from 5 to 7', 'move 6 from 2 to 4', 'move 2 from 2 to 7', 'move 2 from 3 to 6', 'move 6 from 8 to 2', 'move 4 from 6 to 4', 'move 2 from 6 to 9', 'move 4 from 4 to 2', 'move 2 from 4 to 8', 'move 10 from 7 to 2', 'move 18 from 2 to 6', 'move 2 from 2 to 6', 'move 2 from 9 to 2', 'move 2 from 8 to 5', 'move 1 from 2 to 9', 'move 1 from 2 to 9', 'move 1 from 5 to 7', 'move 1 from 2 to 6', 'move 2 from 9 to 2', 'move 6 from 7 to 3', 'move 7 from 6 to 8', 'move 5 from 7 to 2', 'move 1 from 7 to 4', 'move 1 from 5 to 7', 'move 4 from 8 to 7', 'move 5 from 2 to 3', 'move 1 from 7 to 5', 'move 2 from 2 to 8', 'move 9 from 4 to 3', 'move 13 from 6 to 8', 'move 10 from 3 to 1', 'move 1 from 5 to 2', 'move 3 from 6 to 8', 'move 5 from 1 to 2', 'move 1 from 1 to 8', 'move 2 from 4 to 3', 'move 17 from 8 to 6', 'move 5 from 6 to 3', 'move 3 from 1 to 2', 'move 9 from 6 to 5', 'move 2 from 6 to 8', 'move 5 from 5 to 9', 'move 3 from 9 to 8', 'move 3 from 1 to 3', 'move 3 from 7 to 5', 'move 6 from 5 to 8', 'move 7 from 2 to 4', 'move 1 from 6 to 3', 'move 1 from 1 to 5', 'move 4 from 4 to 5', 'move 2 from 2 to 9', 'move 3 from 1 to 3', 'move 4 from 5 to 8', 'move 1 from 4 to 5', 'move 6 from 8 to 7', 'move 1 from 5 to 2', 'move 4 from 9 to 2', 'move 2 from 5 to 9', 'move 2 from 1 to 8', 'move 2 from 4 to 9', 'move 6 from 7 to 5', 'move 3 from 5 to 2', 'move 3 from 2 to 5', 'move 10 from 8 to 3', 'move 2 from 8 to 5', 'move 3 from 2 to 5', 'move 6 from 5 to 1', 'move 4 from 5 to 6', 'move 1 from 7 to 5', 'move 23 from 3 to 7', 'move 2 from 5 to 9', 'move 2 from 1 to 5', 'move 2 from 6 to 3', 'move 6 from 3 to 1', 'move 1 from 1 to 7', 'move 4 from 3 to 1', 'move 1 from 8 to 5', 'move 2 from 9 to 2', 'move 3 from 3 to 8', 'move 2 from 6 to 8', 'move 12 from 1 to 3', 'move 1 from 9 to 7', 'move 3 from 5 to 9', 'move 9 from 3 to 8', 'move 1 from 1 to 7', 'move 1 from 9 to 4', 'move 3 from 3 to 6', 'move 3 from 2 to 1', 'move 3 from 8 to 6', 'move 1 from 4 to 2', 'move 1 from 2 to 9', 'move 1 from 2 to 7', 'move 20 from 7 to 5', 'move 3 from 7 to 3', 'move 3 from 1 to 3', 'move 5 from 8 to 1', 'move 5 from 1 to 5', 'move 4 from 5 to 2', 'move 3 from 2 to 6', 'move 3 from 8 to 7', 'move 1 from 2 to 6', 'move 2 from 8 to 6', 'move 2 from 7 to 5', 'move 2 from 3 to 6', 'move 12 from 5 to 1', 'move 6 from 5 to 7', 'move 12 from 6 to 8', 'move 4 from 9 to 3', 'move 4 from 5 to 8', 'move 3 from 1 to 5', 'move 4 from 7 to 4', 'move 3 from 5 to 9', 'move 7 from 1 to 6', 'move 1 from 1 to 3', 'move 6 from 7 to 6', 'move 1 from 1 to 3', 'move 10 from 3 to 6', 'move 10 from 6 to 2', 'move 2 from 9 to 5', 'move 4 from 6 to 5', 'move 9 from 6 to 1', 'move 16 from 8 to 7', 'move 3 from 8 to 7', 'move 1 from 8 to 1', 'move 7 from 2 to 1', 'move 1 from 5 to 9', 'move 1 from 6 to 1', 'move 2 from 2 to 1', 'move 3 from 1 to 4', 'move 1 from 6 to 8', 'move 7 from 4 to 1', 'move 1 from 8 to 2', 'move 22 from 1 to 8', 'move 18 from 7 to 9', 'move 6 from 5 to 2', 'move 2 from 2 to 7', 'move 2 from 1 to 5', 'move 4 from 7 to 6', 'move 1 from 5 to 6', 'move 2 from 8 to 2', 'move 3 from 2 to 6', 'move 1 from 5 to 6', 'move 15 from 9 to 6', 'move 6 from 9 to 5', 'move 1 from 9 to 8', 'move 1 from 2 to 9', 'move 5 from 5 to 9', 'move 9 from 8 to 6', 'move 3 from 2 to 7', 'move 12 from 8 to 9', 'move 1 from 7 to 5', 'move 1 from 5 to 7', 'move 3 from 7 to 1', 'move 17 from 6 to 3', 'move 1 from 2 to 6', 'move 2 from 1 to 4', 'move 16 from 6 to 4', 'move 7 from 4 to 6', 'move 1 from 5 to 7', 'move 8 from 4 to 5', 'move 9 from 9 to 8', 'move 16 from 3 to 7', 'move 1 from 1 to 5', 'move 3 from 5 to 1', 'move 5 from 6 to 2', 'move 3 from 1 to 7', 'move 3 from 6 to 7', 'move 3 from 9 to 3', 'move 5 from 8 to 5', 'move 11 from 5 to 7', 'move 2 from 3 to 7', 'move 1 from 2 to 1', 'move 1 from 3 to 6', 'move 17 from 7 to 9', 'move 1 from 3 to 2', 'move 3 from 4 to 6', 'move 1 from 1 to 2', 'move 1 from 6 to 4', 'move 14 from 7 to 6', 'move 15 from 9 to 6', 'move 4 from 8 to 7', 'move 1 from 4 to 7', 'move 7 from 9 to 5', 'move 5 from 2 to 9', 'move 7 from 5 to 1', 'move 3 from 1 to 7', 'move 29 from 6 to 4', 'move 1 from 2 to 4', 'move 18 from 4 to 2', 'move 3 from 1 to 4', 'move 1 from 1 to 7', 'move 18 from 2 to 4', 'move 3 from 6 to 5', 'move 15 from 4 to 1', 'move 1 from 5 to 1', 'move 1 from 5 to 4', 'move 9 from 4 to 1', 'move 5 from 1 to 3', 'move 9 from 1 to 5', 'move 2 from 4 to 3', 'move 5 from 5 to 6', 'move 3 from 7 to 9', 'move 7 from 7 to 5', 'move 6 from 4 to 6', 'move 2 from 3 to 7', 'move 6 from 5 to 8', 'move 2 from 8 to 4', 'move 1 from 8 to 9', 'move 9 from 6 to 2', 'move 3 from 9 to 3', 'move 1 from 2 to 1', 'move 6 from 7 to 4', 'move 2 from 2 to 8', 'move 3 from 9 to 5', 'move 5 from 4 to 8', 'move 1 from 6 to 9', 'move 1 from 3 to 1', 'move 1 from 3 to 4', 'move 1 from 6 to 5', 'move 1 from 9 to 3', 'move 10 from 8 to 7', 'move 3 from 9 to 2', 'move 7 from 2 to 4', 'move 6 from 5 to 7', 'move 4 from 5 to 8', 'move 7 from 3 to 2', 'move 3 from 7 to 1', 'move 9 from 1 to 5', 'move 5 from 7 to 9', 'move 7 from 1 to 4', 'move 11 from 4 to 2', 'move 4 from 8 to 3', 'move 5 from 4 to 7', 'move 4 from 4 to 1', 'move 1 from 3 to 6', 'move 12 from 7 to 4', 'move 2 from 1 to 8', 'move 5 from 9 to 7', 'move 7 from 5 to 6', 'move 1 from 1 to 4', 'move 1 from 9 to 8', 'move 1 from 4 to 7', 'move 1 from 8 to 9', 'move 5 from 7 to 9', 'move 2 from 7 to 5', 'move 2 from 6 to 3', 'move 5 from 2 to 7', 'move 1 from 7 to 8', 'move 1 from 1 to 6', 'move 3 from 5 to 1']\n",
            "NLCDCLVMQ"
          ]
        }
      ]
    }
  ]
}