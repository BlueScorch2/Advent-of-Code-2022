{
  "nbformat": 4,
  "nbformat_minor": 0,
  "metadata": {
    "colab": {
      "provenance": [],
      "authorship_tag": "ABX9TyNxA1M6O/OHNEN6LX6al49m",
      "include_colab_link": true
    },
    "kernelspec": {
      "name": "python3",
      "display_name": "Python 3"
    },
    "language_info": {
      "name": "python"
    }
  },
  "cells": [
    {
      "cell_type": "markdown",
      "metadata": {
        "id": "view-in-github",
        "colab_type": "text"
      },
      "source": [
        "<a href=\"https://colab.research.google.com/github/BlueScorch2/Advent-of-Code-2022/blob/main/AoC_2022_Day_10.ipynb\" target=\"_parent\"><img src=\"https://colab.research.google.com/assets/colab-badge.svg\" alt=\"Open In Colab\"/></a>"
      ]
    },
    {
      "cell_type": "code",
      "execution_count": null,
      "metadata": {
        "id": "bJZrljNaZP3J"
      },
      "outputs": [],
      "source": [
        "def add_value(cycle, X):\n",
        "    if (cycle-20) % 40 == 0:\n",
        "        values.append(cycle*X)\n",
        "        check.append([cycle, X])\n",
        "\n",
        "with open('/content/AoC 2022 Day 10 test.txt', 'r') as f:\n",
        "    file = f.read().split('\\n')\n",
        "lines = file.copy()\n",
        "print(lines)\n",
        "\n",
        "instructions = []\n",
        "for l in lines:\n",
        "    if len(l.split(' ')) == 2:\n",
        "        instructions.append([l.split(' ')[0], int(l.split(' ')[1])])\n",
        "    else:\n",
        "        instructions.append(l)\n",
        "\n",
        "cycle = 0\n",
        "num = 0\n",
        "X = 1\n",
        "values = []\n",
        "check = []\n",
        "wait = False\n",
        "i = 0\n",
        "while i < len(instructions):\n",
        "    cycle+=1\n",
        "    add_value(cycle, X)\n",
        "    instruction = instructions[i]\n",
        "    if wait:\n",
        "        wait = False\n",
        "        i-=1\n",
        "        X += num\n",
        "    else:\n",
        "        if instruction == \"noop\":\n",
        "            num = 0\n",
        "        else:\n",
        "            num = instruction[1]\n",
        "            wait = True\n",
        "    i+=1\n",
        "\n",
        "print(check)\n",
        "print(values, sum(values))"
      ]
    },
    {
      "cell_type": "code",
      "source": [
        "def draw(crt, X):\n",
        "    if abs(X-crt) <=1:\n",
        "        picture.append('#')\n",
        "    else:\n",
        "        picture.append('.')\n",
        "\n",
        "\n",
        "def screen_width(cycle, X):\n",
        "    if (cycle-20) % 40 == 0:\n",
        "        values.append(cycle*X)\n",
        "        check.append([cycle, X])\n",
        "\n",
        "with open('/content/AoC 2022 Day 10 test.txt', 'r') as f:\n",
        "    file = f.read().split('\\n')\n",
        "lines = file.copy()\n",
        "print(lines)\n",
        "\n",
        "instructions = []\n",
        "for l in lines:\n",
        "    if len(l.split(' ')) == 2:\n",
        "        instructions.append([l.split(' ')[0], int(l.split(' ')[1])])\n",
        "    else:\n",
        "        instructions.append(l)\n",
        "\n",
        "cycle = 0\n",
        "num = 0\n",
        "X = 1\n",
        "values = []\n",
        "check = []\n",
        "wait = False\n",
        "i = 0\n",
        "\n",
        "crt = -1\n",
        "picture = []\n",
        "\n",
        "while i < len(instructions):\n",
        "    cycle+=1\n",
        "    crt+=1\n",
        "    if crt% 40 == 0:\n",
        "        crt = 0\n",
        "    screen_width(cycle, X)\n",
        "    draw(crt, X)\n",
        "    instruction = instructions[i]\n",
        "    if wait:\n",
        "        wait = False\n",
        "        i-=1\n",
        "        X += num\n",
        "    else:\n",
        "        if instruction == \"noop\":\n",
        "            num = 0\n",
        "        else:\n",
        "            num = instruction[1]\n",
        "            wait = True\n",
        "    i+=1\n",
        "\n",
        "off = 0\n",
        "for i in range(6):\n",
        "    for j in range(40):\n",
        "        print(picture[j+off], end='')\n",
        "    print()\n",
        "    off += 40"
      ],
      "metadata": {
        "colab": {
          "base_uri": "https://localhost:8080/"
        },
        "id": "WdgiZooq3Khl",
        "outputId": "78706040-07be-429c-f1b0-79b78c2e6294"
      },
      "execution_count": 104,
      "outputs": [
        {
          "output_type": "stream",
          "name": "stdout",
          "text": [
            "['noop', 'addx 25', 'addx -5', 'addx -14', 'addx 4', 'noop', 'addx 2', 'addx 3', 'noop', 'noop', 'noop', 'noop', 'addx 3', 'addx 5', 'addx 2', 'noop', 'noop', 'addx 5', 'noop', 'noop', 'noop', 'addx 1', 'addx 2', 'addx 5', 'addx -40', 'addx 5', 'noop', 'addx 26', 'addx -20', 'addx -3', 'addx 2', 'noop', 'addx -4', 'addx 9', 'addx 5', 'addx 2', 'addx 11', 'addx -10', 'addx 2', 'addx 5', 'addx 2', 'addx 5', 'noop', 'noop', 'noop', 'addx -31', 'addx 32', 'addx -37', 'addx 1', 'addx 8', 'addx 13', 'addx -15', 'addx 4', 'noop', 'addx 5', 'noop', 'addx 3', 'addx -2', 'addx 4', 'addx 1', 'addx 4', 'addx -14', 'addx 15', 'addx 4', 'noop', 'noop', 'noop', 'addx 3', 'addx 5', 'addx -40', 'noop', 'addx 5', 'addx 8', 'addx -3', 'noop', 'addx 2', 'addx 9', 'addx -4', 'noop', 'noop', 'noop', 'noop', 'addx 5', 'addx -9', 'addx 10', 'addx 4', 'noop', 'noop', 'addx 5', 'addx -19', 'addx 24', 'addx -2', 'addx 5', 'addx -40', 'addx 22', 'addx -19', 'addx 2', 'addx 5', 'addx 2', 'addx 5', 'noop', 'noop', 'addx -2', 'addx 2', 'addx 5', 'addx 3', 'noop', 'addx 2', 'addx 2', 'addx 3', 'addx -2', 'addx 10', 'addx -3', 'addx 3', 'noop', 'addx -40', 'addx 2', 'addx 11', 'addx -5', 'addx -1', 'noop', 'addx 3', 'addx 7', 'noop', 'addx -2', 'addx 5', 'addx 2', 'addx 3', 'noop', 'addx 2', 'addx 6', 'addx -5', 'addx 2', 'addx -18', 'addx 26', 'addx -1', 'noop', 'noop', 'noop', 'noop']\n",
            "###....##.####.###..#..#.###..####.#..#.\n",
            "#..#....#.#....#..#.#..#.#..#.#....#..#.\n",
            "###.....#.###..#..#.####.#..#.###..#..#.\n",
            "#..#....#.#....###..#..#.###..#....#..#.\n",
            "#..#.#..#.#....#.#..#..#.#.#..#....#..#.\n",
            "###...##..#....#..#.#..#.#..#.#.....##..\n"
          ]
        }
      ]
    }
  ]
}