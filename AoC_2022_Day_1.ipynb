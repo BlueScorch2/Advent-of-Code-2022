{
  "nbformat": 4,
  "nbformat_minor": 0,
  "metadata": {
    "colab": {
      "provenance": [],
      "authorship_tag": "ABX9TyOxzTHNop5xNdhZKTBUoENm",
      "include_colab_link": true
    },
    "kernelspec": {
      "name": "python3",
      "display_name": "Python 3"
    },
    "language_info": {
      "name": "python"
    }
  },
  "cells": [
    {
      "cell_type": "markdown",
      "metadata": {
        "id": "view-in-github",
        "colab_type": "text"
      },
      "source": [
        "<a href=\"https://colab.research.google.com/github/BlueScorch2/Advent-of-Code-2022/blob/main/AoC_2022_Day_1.ipynb\" target=\"_parent\"><img src=\"https://colab.research.google.com/assets/colab-badge.svg\" alt=\"Open In Colab\"/></a>"
      ]
    },
    {
      "cell_type": "code",
      "execution_count": null,
      "metadata": {
        "id": "xwJDNw4jBenz"
      },
      "outputs": [],
      "source": [
        "with open('/content/AoC 2022 Day 1 test.txt', 'r') as f:\n",
        "    file = f.read().split('\\n')\n",
        "print(file)\n",
        "\n",
        "lines_t = file.copy()\n",
        "\n",
        "lines = []\n",
        "for item in lines_t:\n",
        "    if item != '':\n",
        "        lines.append(int(item))\n",
        "    else:\n",
        "        lines.append('')\n",
        "print(lines)\n",
        "\n",
        "c_list = []\n",
        "sum = 0\n",
        "for item in lines:\n",
        "    if item != '' or None:\n",
        "        sum += int(item)\n",
        "    else:\n",
        "        c_list.append(sum)\n",
        "        sum = 0\n",
        "\n",
        "print(c_list)\n",
        "print(max(c_list))\n",
        "\n",
        "s_list = sorted(c_list)\n",
        "\n",
        "print(f'{s_list[-1]}, {s_list[-2]}, {s_list[-3]}')\n",
        "print(s_list[-1] + s_list[-2] + s_list[-3])"
      ]
    },
    {
      "cell_type": "code",
      "source": [
        "with open('/content/AoC 2022 Day 1 test.txt', 'r') as f:\n",
        "    file = f.read().split('\\n')\n",
        "print(file)\n",
        "\n",
        "lines_t = file.copy()\n",
        "lines = []\n",
        "for item in lines_t:\n",
        "    if item != '':\n",
        "        lines.append(int(item))\n",
        "    else:\n",
        "        lines.append('')\n",
        "print(lines)\n",
        "c_list = []\n",
        "sum = 0\n",
        "for item in lines:\n",
        "    if item != '':\n",
        "        sum += int(item)\n",
        "    else:\n",
        "        c_list.append(sum)\n",
        "        sum = 0\n",
        "\n",
        "print(c_list)\n",
        "print(max(c_list))\n",
        "\n",
        "s_list = sorted(c_list)\n",
        "print(s_list)\n",
        "\n",
        "print(f'{s_list[-1]}, {s_list[-2]}, {s_list[-3]}')\n",
        "print(s_list[-1] + s_list[-2] + s_list[-3])"
      ],
      "metadata": {
        "id": "1PSPO43twGx8"
      },
      "execution_count": null,
      "outputs": []
    }
  ]
}