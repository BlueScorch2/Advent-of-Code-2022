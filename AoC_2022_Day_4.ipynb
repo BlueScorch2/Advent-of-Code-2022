{
  "nbformat": 4,
  "nbformat_minor": 0,
  "metadata": {
    "colab": {
      "provenance": [],
      "authorship_tag": "ABX9TyMq2+zaisJ+phNZpUrFcMCP",
      "include_colab_link": true
    },
    "kernelspec": {
      "name": "python3",
      "display_name": "Python 3"
    },
    "language_info": {
      "name": "python"
    }
  },
  "cells": [
    {
      "cell_type": "markdown",
      "metadata": {
        "id": "view-in-github",
        "colab_type": "text"
      },
      "source": [
        "<a href=\"https://colab.research.google.com/github/BlueScorch2/Advent-of-Code-2022/blob/main/AoC_2022_Day_4.ipynb\" target=\"_parent\"><img src=\"https://colab.research.google.com/assets/colab-badge.svg\" alt=\"Open In Colab\"/></a>"
      ]
    },
    {
      "cell_type": "code",
      "execution_count": null,
      "metadata": {
        "id": "3xRNHaGlrx2V"
      },
      "outputs": [],
      "source": [
        "#PART 1\n",
        "\n",
        "with open('/content/AoC 2022 Day 4 test.txt', 'r') as f:\n",
        "    file = f.read().split('\\n')\n",
        "lines = file.copy()\n",
        "print(lines)\n",
        "\n",
        "lines = [[i[0].split('-'),i[1].split('-')] for i in [l.split(',') for l in lines]]\n",
        "\n",
        "count = 0\n",
        "for l in lines:\n",
        "    if int(l[0][0]) <= int(l[1][0]) and int(l[0][1]) >= int(l[1][1]):\n",
        "        count += 1\n",
        "    elif int(l[0][0]) >= int(l[1][0]) and int(l[0][1]) <= int(l[1][1]):\n",
        "        count += 1\n",
        "print(count)\n"
      ]
    },
    {
      "cell_type": "code",
      "source": [
        "#PART 2\n",
        "\n",
        "with open('/content/AoC 2022 Day 4 test.txt', 'r') as f:\n",
        "    file = f.read().split('\\n')\n",
        "lines = file.copy()\n",
        "print(lines)\n",
        "\n",
        "lines = [[i[0].split('-'),i[1].split('-')] for i in [l.split(',') for l in lines]]\n",
        "\n",
        "count = 0\n",
        "for l in lines:\n",
        "    first = int(l[0][0])  #a\n",
        "    second = int(l[0][1]) #b\n",
        "    third = int(l[1][0])  #c\n",
        "    fourth = int(l[1][1]) #d\n",
        "    if first <= third and second >= fourth: # [a (c d) b]\n",
        "        count += 1\n",
        "    elif third <= first and fourth >= second: # (c [a b] d)\n",
        "        count += 1\n",
        "    elif first <= third and third <= second and second <= fourth: # [a (c b] d)\n",
        "        count += 1\n",
        "    elif first >= third and fourth >= first and second >= fourth: # (c [a d) b]\n",
        "        count += 1\n",
        "print(count)\n"
      ],
      "metadata": {
        "id": "UrjrnfUYvrWx"
      },
      "execution_count": null,
      "outputs": []
    },
    {
      "cell_type": "code",
      "source": [
        "#PART 2 (in 3 lines)\n",
        "\n",
        "with open('/content/AoC 2022 Day 4 test.txt', 'r') as f: lines, count, test = f.read().split('\\n'), [], []\n",
        "hi = [count.append('1') if (int(l[0][0]) <= int(l[1][0]) and int(l[0][1]) >= int(l[1][1])) or (int(l[1][0]) <= int(l[0][0]) and int(l[1][1]) >= int(l[0][1])) or (int(l[0][0]) <= int(l[1][0]) and int(l[1][0]) <= int(l[0][1]) and int(l[0][1]) <= int(l[1][1])) or (int(l[0][0]) >= int(l[1][0]) and int(l[1][1]) >= int(l[0][0]) and int(l[0][1]) >= int(l[1][1])) else test.append('A') for l in [[i[0].split('-'),i[1].split('-')] for i in [l.split(',') for l in lines]]]\n",
        "print(len(count))"
      ],
      "metadata": {
        "id": "KLoq1LjjzIAb"
      },
      "execution_count": null,
      "outputs": []
    }
  ]
}