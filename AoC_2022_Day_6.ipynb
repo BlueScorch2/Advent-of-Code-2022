{
  "nbformat": 4,
  "nbformat_minor": 0,
  "metadata": {
    "colab": {
      "provenance": [],
      "authorship_tag": "ABX9TyMb+GUEtzRJEgoqhtNS6P9U",
      "include_colab_link": true
    },
    "kernelspec": {
      "name": "python3",
      "display_name": "Python 3"
    },
    "language_info": {
      "name": "python"
    }
  },
  "cells": [
    {
      "cell_type": "markdown",
      "metadata": {
        "id": "view-in-github",
        "colab_type": "text"
      },
      "source": [
        "<a href=\"https://colab.research.google.com/github/BlueScorch2/Advent-of-Code-2022/blob/main/AoC_2022_Day_6.ipynb\" target=\"_parent\"><img src=\"https://colab.research.google.com/assets/colab-badge.svg\" alt=\"Open In Colab\"/></a>"
      ]
    },
    {
      "cell_type": "code",
      "execution_count": null,
      "metadata": {
        "id": "ate_GCkOJ4vY"
      },
      "outputs": [],
      "source": [
        "#PART 1\n",
        "\n",
        "with open('/content/AoC 2022 Day 6 test.txt', 'r') as f:\n",
        "    file = f.read()\n",
        "line = file\n",
        "print(line)\n",
        "\n",
        "repeating, c, size = [], 0, 4\n",
        "\n",
        "for i, l in enumerate(line):\n",
        "    if l not in repeating:\n",
        "        c+=1\n",
        "        repeating.append(l)\n",
        "        if c == size:\n",
        "            print('ANS', i)\n",
        "            break\n",
        "    else:\n",
        "        index = repeating.index(l)\n",
        "        repeating = [repeating[r] for r in range(c, len(repeating))]\n",
        "        repeating.append(l)\n",
        "        c = 0\n",
        "    print(repeating)"
      ]
    },
    {
      "cell_type": "code",
      "source": [
        "#PART 2\n",
        "\n",
        "with open('/content/AoC 2022 Day 6 test.txt', 'r') as f:\n",
        "    file = f.read()\n",
        "line = file\n",
        "print(line)\n",
        "\n",
        "length = 14\n",
        "for i in range(len(line)-3):\n",
        "    found = True\n",
        "    for a in range(length):\n",
        "        for b in range(length):\n",
        "            if a == b:\n",
        "                continue\n",
        "            elif line[i+a] == line[i+b]:\n",
        "                    found = False\n",
        "    if found == True:\n",
        "        print(i+length)\n",
        "        break\n"
      ],
      "metadata": {
        "id": "RRmf7w8tNRCM"
      },
      "execution_count": null,
      "outputs": []
    }
  ]
}