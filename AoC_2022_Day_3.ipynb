{
  "nbformat": 4,
  "nbformat_minor": 0,
  "metadata": {
    "colab": {
      "provenance": [],
      "authorship_tag": "ABX9TyP3JQoIKDMiGzrP/HA915+2",
      "include_colab_link": true
    },
    "kernelspec": {
      "name": "python3",
      "display_name": "Python 3"
    },
    "language_info": {
      "name": "python"
    }
  },
  "cells": [
    {
      "cell_type": "markdown",
      "metadata": {
        "id": "view-in-github",
        "colab_type": "text"
      },
      "source": [
        "<a href=\"https://colab.research.google.com/github/BlueScorch2/Advent-of-Code-2022/blob/main/AoC_2022_Day_3.ipynb\" target=\"_parent\"><img src=\"https://colab.research.google.com/assets/colab-badge.svg\" alt=\"Open In Colab\"/></a>"
      ]
    },
    {
      "cell_type": "code",
      "execution_count": null,
      "metadata": {
        "colab": {
          "base_uri": "https://localhost:8080/"
        },
        "id": "5ITj0ZrSYAeU",
        "outputId": "fe2d8a5c-7215-44ff-9733-4272fcd01323"
      },
      "outputs": [
        {
          "output_type": "stream",
          "name": "stdout",
          "text": [
            "8185\n"
          ]
        }
      ],
      "source": [
        "#PART 1\n",
        "\n",
        "def match(r):\n",
        "    for i in r[0]:\n",
        "        for j in r[1]:\n",
        "            if i == j:\n",
        "                return i\n",
        "\n",
        "with open('/content/AoC 2022 Day 3 test.txt', 'r') as f:\n",
        "    file = f.read().split('\\n')\n",
        "lines = file.copy()\n",
        "\n",
        "rucksacks = [[l[0:len(l)//2], l[len(l)//2:len(l)]] for l in lines]\n",
        "letters = []\n",
        "sum = 0\n",
        "for r in rucksacks:\n",
        "    num = ord(match(r)) - 96\n",
        "    if num < 0:\n",
        "        num += 58\n",
        "    sum += num\n",
        "print(sum)"
      ]
    },
    {
      "cell_type": "code",
      "source": [
        "#PART 2\n",
        "\n",
        "def match(r):\n",
        "    for i in r[0]:\n",
        "        for j in r[1]:\n",
        "            for k in r[2]:\n",
        "                if i == j == k:\n",
        "                    return i\n",
        "\n",
        "with open('/content/AoC 2022 Day 3 test.txt', 'r') as f:\n",
        "    file = f.read().split('\\n')\n",
        "print(file)\n",
        "lines = file.copy()\n",
        "rucksacks = [[lines[l+0], lines[l+1], lines[l+2]] for l in range(0,len(lines),3)]\n",
        "print(rucksacks)\n",
        "letters = []\n",
        "for r in rucksacks:\n",
        "    letters.append(match(r))\n",
        "sum = 0\n",
        "for l in letters:\n",
        "    num = ord(l) - 96\n",
        "    if num < 0:\n",
        "        num += 58\n",
        "    sum += num\n",
        "\n",
        "print(sum)"
      ],
      "metadata": {
        "id": "rxMvOuyCc8Or"
      },
      "execution_count": null,
      "outputs": []
    }
  ]
}