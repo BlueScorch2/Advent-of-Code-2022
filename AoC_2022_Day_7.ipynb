{
  "nbformat": 4,
  "nbformat_minor": 0,
  "metadata": {
    "colab": {
      "provenance": [],
      "authorship_tag": "ABX9TyPJxdBxt6Jo6Xr49aGYfyCR",
      "include_colab_link": true
    },
    "kernelspec": {
      "name": "python3",
      "display_name": "Python 3"
    },
    "language_info": {
      "name": "python"
    }
  },
  "cells": [
    {
      "cell_type": "markdown",
      "metadata": {
        "id": "view-in-github",
        "colab_type": "text"
      },
      "source": [
        "<a href=\"https://colab.research.google.com/github/BlueScorch2/Advent-of-Code-2022/blob/main/AoC_2022_Day_7.ipynb\" target=\"_parent\"><img src=\"https://colab.research.google.com/assets/colab-badge.svg\" alt=\"Open In Colab\"/></a>"
      ]
    },
    {
      "cell_type": "code",
      "source": [
        "#PART 1 (and 2)\n",
        "\n",
        "class Dir():\n",
        "    directories = []\n",
        "    files = []\n",
        "    name = ''\n",
        "    size = 0\n",
        "\n",
        "    def __init__(self, *args):\n",
        "        self.name = args[0]\n",
        "        try: self.previous = args[1]\n",
        "        except: self.previous = False\n",
        "        self.directories = []\n",
        "        self.files = []\n",
        "        self.size = 0\n",
        "\n",
        "    def AddFile(self, file):\n",
        "        self.files.append(file)\n",
        "    \n",
        "    def AddDir(self, directory):\n",
        "        self.directories.append(directory)\n",
        "\n",
        "with open('/content/AoC 2022 Day 7 test.txt', 'r') as f:\n",
        "    file = f.read().split('\\n')\n",
        "lines = file.copy()\n",
        "print(lines)\n",
        "\n",
        "#Creating root directory\n",
        "root = Dir(\"/\")\n",
        "pointer = root\n",
        "dir_list = []\n",
        "\n",
        "for x, l in enumerate(lines):\n",
        "    sep = l.split(' ')\n",
        "    if sep[0] == \"$\":\n",
        "        if sep[1] == \"cd\":\n",
        "            if sep[2] == '/': #outermost directory\n",
        "                pointer = root\n",
        "            elif sep[2] == '..': #moves out one layer\n",
        "                try:\n",
        "                    pointer = pointer.previous\n",
        "                except:\n",
        "                    print(x, pointer)\n",
        "            else: #changes directory\n",
        "                for d in pointer.directories:\n",
        "                    if sep[2] == d.name:\n",
        "                        pointer = d\n",
        "                        break\n",
        "        elif sep[1] == \"ls\": #print files and directories\n",
        "            pass\n",
        "    elif sep[0] == \"dir\":\n",
        "        dir_list.append(Dir(sep[1], pointer))\n",
        "        pointer.AddDir(dir_list[-1])\n",
        "    else:\n",
        "        pointer.AddFile(sep)\n",
        "        temp = pointer\n",
        "        while temp.name != \"/\":\n",
        "            temp.size += int(sep[0])\n",
        "            temp = temp.previous\n",
        "        root.size += int(sep[0])\n",
        "\n",
        "result = []\n",
        "for i in dir_list:\n",
        "    if i.size <= 100000:\n",
        "        result.append(i.size)\n",
        "print(sum(result))\n",
        "\n",
        "#PART 2\n",
        "current_space = root.size\n",
        "total_space = 70000000\n",
        "update_space = 30000000\n",
        "space_removed = -total_space + update_space + current_space\n",
        "\n",
        "smallest = root\n",
        "for j in dir_list:\n",
        "    if j.size > space_removed and j.size < smallest.size:\n",
        "        smallest = j\n",
        "\n",
        "print(smallest.name, smallest.size, dir_list[-1].size)\n"
      ],
      "metadata": {
        "id": "zAe1I4UcYCZ4"
      },
      "execution_count": null,
      "outputs": []
    }
  ]
}